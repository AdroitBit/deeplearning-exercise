{
  "nbformat": 4,
  "nbformat_minor": 0,
  "metadata": {
    "colab": {
      "provenance": [],
      "include_colab_link": true
    },
    "kernelspec": {
      "name": "python3",
      "display_name": "Python 3"
    },
    "language_info": {
      "name": "python"
    }
  },
  "cells": [
    {
      "cell_type": "markdown",
      "metadata": {
        "id": "view-in-github",
        "colab_type": "text"
      },
      "source": [
        "<a href=\"https://colab.research.google.com/github/AdroitBit/deeplearning-exercise/blob/main/tic_tac_toe.ipynb\" target=\"_parent\"><img src=\"https://colab.research.google.com/assets/colab-badge.svg\" alt=\"Open In Colab\"/></a>"
      ]
    },
    {
      "cell_type": "markdown",
      "source": [
        "**Review our Tic-Tac-Toe**\n",
        "\n",
        "Here is a 3x3 square board for playing Tic-Tac-Toe with each cell labeled with a number as shown below.\n",
        "\n",
        "![Screenshot 2025-02-17 234731.png](data:image/png;base64,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)"
      ],
      "metadata": {
        "id": "5NRdmqDFvfa_"
      }
    },
    {
      "cell_type": "markdown",
      "source": [
        "**Some code for functions we will need**\n",
        "\n",
        "The code in the cells below are the functions we will need."
      ],
      "metadata": {
        "id": "NOHnVUX1DoB0"
      }
    },
    {
      "cell_type": "code",
      "source": [
        "def draw_board(board_state):\n",
        "  print(board_state[6] + '|' + board_state[7] + '|' + board_state[8])\n",
        "  print('-+-+-')\n",
        "  print(board_state[3] + '|' + board_state[4] + '|' + board_state[5])\n",
        "  print('-+-+-')\n",
        "  print(board_state[0] + '|' + board_state[1] + '|' + board_state[2])"
      ],
      "metadata": {
        "id": "JypPyC2jKj1Y"
      },
      "execution_count": 1,
      "outputs": []
    },
    {
      "cell_type": "code",
      "source": [
        "def get_empty_cells(board_state):\n",
        "  assert(len(board_state) == 9) # make sure that there are exactly 9 cells in the board\n",
        "  empty_cells = []\n",
        "  for index in range(9):\n",
        "    if board_state[index] == ' ':\n",
        "      empty_cells.append(index)\n",
        "  return empty_cells"
      ],
      "metadata": {
        "id": "S0jXNO4byzQU"
      },
      "execution_count": 2,
      "outputs": []
    },
    {
      "cell_type": "code",
      "source": [
        "def human_move(board_state):\n",
        "  while True:\n",
        "    my_move = input(\"Which cell do you want to place your X in? (0-8): \")\n",
        "    my_move = int(my_move)\n",
        "    empty_cell_list = get_empty_cells(board_state)\n",
        "    if my_move in empty_cell_list:\n",
        "      board_state[my_move] = 'X'\n",
        "      break\n",
        "    else:\n",
        "      print(\"Cannot make that move. Try again\")\n"
      ],
      "metadata": {
        "id": "WH4ICnQLyzF1"
      },
      "execution_count": 3,
      "outputs": []
    },
    {
      "cell_type": "code",
      "source": [
        "import random\n",
        "\n",
        "def computer_move(board_state):\n",
        "  # you need to code this part\n",
        "  computer_move = random.randint(0, 8)\n",
        "  empty_cell_list = get_empty_cells(board_state)\n",
        "  while computer_move not in empty_cell_list:\n",
        "    computer_move = random.randint(0, 8)\n",
        "  board_state[computer_move] = 'O'"
      ],
      "metadata": {
        "id": "PyOrOUXkyy4v"
      },
      "execution_count": 4,
      "outputs": []
    },
    {
      "cell_type": "code",
      "source": [
        "def is_winning(board_state):\n",
        "\n",
        "  # horizontally aligned winning\n",
        "  if board_state[0] == board_state[1] == board_state[2]:\n",
        "    if board_state[0] != ' ':\n",
        "      return True\n",
        "\n",
        "  if board_state[3] == board_state[4] == board_state[5]:\n",
        "    if board_state[3] != ' ':\n",
        "      return True\n",
        "\n",
        "  if board_state[6] == board_state[7] == board_state[8]:\n",
        "    if board_state[6] != ' ':\n",
        "      return True\n",
        "\n",
        "  # vertically aligned winning\n",
        "  if board_state[0] == board_state[3] == board_state[6]:\n",
        "    if board_state[0] != ' ':\n",
        "      return True\n",
        "\n",
        "  if board_state[1] == board_state[4] == board_state[7]:\n",
        "    if board_state[1] != ' ':\n",
        "      return True\n",
        "\n",
        "  if board_state[2] == board_state[5] == board_state[8]:\n",
        "    if board_state[2] != ' ':\n",
        "      return True\n",
        "\n",
        "  # diagnolly alinged winning\n",
        "  if board_state[0] == board_state[4] == board_state[8]:\n",
        "    if board_state[0] != ' ':\n",
        "      return True\n",
        "\n",
        "  if board_state[2] == board_state[4] == board_state[6]:\n",
        "    if board_state[2] != ' ':\n",
        "      return True\n",
        "\n",
        "  # if all the above conditions fail\n",
        "  return False"
      ],
      "metadata": {
        "id": "7_koE4rOyllO"
      },
      "execution_count": 5,
      "outputs": []
    },
    {
      "cell_type": "markdown",
      "source": [
        "Let's test and run each of the above functions"
      ],
      "metadata": {
        "id": "aSJ9Fs_00dRl"
      }
    },
    {
      "cell_type": "code",
      "source": [
        "board_state = ['X', 'O', 'X', 'O', 'X', 'O', 'O', 'X', 'X']\n",
        "draw_board(board_state)"
      ],
      "metadata": {
        "id": "gIuEQrX3z6XE",
        "colab": {
          "base_uri": "https://localhost:8080/"
        },
        "outputId": "cb443af4-901d-4f9a-e375-2ff15baae47e"
      },
      "execution_count": 6,
      "outputs": [
        {
          "output_type": "stream",
          "name": "stdout",
          "text": [
            "O|X|X\n",
            "-+-+-\n",
            "O|X|O\n",
            "-+-+-\n",
            "X|O|X\n"
          ]
        }
      ]
    },
    {
      "cell_type": "code",
      "source": [
        "board_state = [' ', ' ', 'X', ' ', ' ', 'O', ' ', ' ', ' ']\n",
        "draw_board(board_state)"
      ],
      "metadata": {
        "id": "L-YpapIz0KqW",
        "colab": {
          "base_uri": "https://localhost:8080/"
        },
        "outputId": "60573362-54d1-40a2-f42a-642fec8b24fb"
      },
      "execution_count": 7,
      "outputs": [
        {
          "output_type": "stream",
          "name": "stdout",
          "text": [
            " | | \n",
            "-+-+-\n",
            " | |O\n",
            "-+-+-\n",
            " | |X\n"
          ]
        }
      ]
    },
    {
      "cell_type": "code",
      "source": [
        "# Test case 1: An empty board\n",
        "board_state_empty = [' ', ' ', ' ', ' ', ' ', ' ', ' ', ' ', ' ']\n",
        "empty_cells_empty = get_empty_cells(board_state_empty)\n",
        "print(\"Test Case 1 (Empty Board): {empty_cells_empty}\", empty_cells_empty)\n",
        "\n",
        "# Test case 2: A board with some filled cells\n",
        "board_state_partial = ['X', ' ', 'O', ' ', 'X', ' ', 'O', ' ', 'X']\n",
        "empty_cells_partial = get_empty_cells(board_state_partial)\n",
        "print(\"Test Case 2 (Partial Board): {empty_cells_partial}\", empty_cells_partial)\n",
        "\n",
        "# Test case 3: A full board\n",
        "board_state_full = ['X', 'O', 'X', 'O', 'X', 'O', 'O', 'X', 'X']\n",
        "empty_cells_full = get_empty_cells(board_state_full)\n",
        "print(\"Test Case 3 (Full Board):\", empty_cells_full)\n"
      ],
      "metadata": {
        "id": "m7RfCKYv0uRZ",
        "colab": {
          "base_uri": "https://localhost:8080/"
        },
        "outputId": "2018b2d0-a812-4cf2-a54d-5671ef5cfad3"
      },
      "execution_count": 8,
      "outputs": [
        {
          "output_type": "stream",
          "name": "stdout",
          "text": [
            "Test Case 1 (Empty Board): {empty_cells_empty} [0, 1, 2, 3, 4, 5, 6, 7, 8]\n",
            "Test Case 2 (Partial Board): {empty_cells_partial} [1, 3, 5, 7]\n",
            "Test Case 3 (Full Board): []\n"
          ]
        }
      ]
    },
    {
      "cell_type": "code",
      "source": [
        "# Test the human_move function\n",
        "board_state = [' ', ' ', 'X', ' ', ' ', 'O', ' ', ' ', ' ']\n",
        "empty_cells = get_empty_cells(board_state)\n",
        "human_move(board_state)\n",
        "draw_board(board_state)"
      ],
      "metadata": {
        "id": "-wyI---W3czh",
        "colab": {
          "base_uri": "https://localhost:8080/",
          "height": 339
        },
        "outputId": "0dd0d343-314b-4a3c-bc52-f1ebbc20b498"
      },
      "execution_count": 9,
      "outputs": [
        {
          "output_type": "error",
          "ename": "KeyboardInterrupt",
          "evalue": "Interrupted by user",
          "traceback": [
            "\u001b[0;31m---------------------------------------------------------------------------\u001b[0m",
            "\u001b[0;31mKeyboardInterrupt\u001b[0m                         Traceback (most recent call last)",
            "\u001b[0;32m/tmp/ipython-input-9-4155782338.py\u001b[0m in \u001b[0;36m<cell line: 0>\u001b[0;34m()\u001b[0m\n\u001b[1;32m      2\u001b[0m \u001b[0mboard_state\u001b[0m \u001b[0;34m=\u001b[0m \u001b[0;34m[\u001b[0m\u001b[0;34m' '\u001b[0m\u001b[0;34m,\u001b[0m \u001b[0;34m' '\u001b[0m\u001b[0;34m,\u001b[0m \u001b[0;34m'X'\u001b[0m\u001b[0;34m,\u001b[0m \u001b[0;34m' '\u001b[0m\u001b[0;34m,\u001b[0m \u001b[0;34m' '\u001b[0m\u001b[0;34m,\u001b[0m \u001b[0;34m'O'\u001b[0m\u001b[0;34m,\u001b[0m \u001b[0;34m' '\u001b[0m\u001b[0;34m,\u001b[0m \u001b[0;34m' '\u001b[0m\u001b[0;34m,\u001b[0m \u001b[0;34m' '\u001b[0m\u001b[0;34m]\u001b[0m\u001b[0;34m\u001b[0m\u001b[0;34m\u001b[0m\u001b[0m\n\u001b[1;32m      3\u001b[0m \u001b[0mempty_cells\u001b[0m \u001b[0;34m=\u001b[0m \u001b[0mget_empty_cells\u001b[0m\u001b[0;34m(\u001b[0m\u001b[0mboard_state\u001b[0m\u001b[0;34m)\u001b[0m\u001b[0;34m\u001b[0m\u001b[0;34m\u001b[0m\u001b[0m\n\u001b[0;32m----> 4\u001b[0;31m \u001b[0mhuman_move\u001b[0m\u001b[0;34m(\u001b[0m\u001b[0mboard_state\u001b[0m\u001b[0;34m)\u001b[0m\u001b[0;34m\u001b[0m\u001b[0;34m\u001b[0m\u001b[0m\n\u001b[0m\u001b[1;32m      5\u001b[0m \u001b[0mdraw_board\u001b[0m\u001b[0;34m(\u001b[0m\u001b[0mboard_state\u001b[0m\u001b[0;34m)\u001b[0m\u001b[0;34m\u001b[0m\u001b[0;34m\u001b[0m\u001b[0m\n",
            "\u001b[0;32m/tmp/ipython-input-3-3110300527.py\u001b[0m in \u001b[0;36mhuman_move\u001b[0;34m(board_state)\u001b[0m\n\u001b[1;32m      1\u001b[0m \u001b[0;32mdef\u001b[0m \u001b[0mhuman_move\u001b[0m\u001b[0;34m(\u001b[0m\u001b[0mboard_state\u001b[0m\u001b[0;34m)\u001b[0m\u001b[0;34m:\u001b[0m\u001b[0;34m\u001b[0m\u001b[0;34m\u001b[0m\u001b[0m\n\u001b[1;32m      2\u001b[0m   \u001b[0;32mwhile\u001b[0m \u001b[0;32mTrue\u001b[0m\u001b[0;34m:\u001b[0m\u001b[0;34m\u001b[0m\u001b[0;34m\u001b[0m\u001b[0m\n\u001b[0;32m----> 3\u001b[0;31m     \u001b[0mmy_move\u001b[0m \u001b[0;34m=\u001b[0m \u001b[0minput\u001b[0m\u001b[0;34m(\u001b[0m\u001b[0;34m\"Which cell do you want to place your X in? (0-8): \"\u001b[0m\u001b[0;34m)\u001b[0m\u001b[0;34m\u001b[0m\u001b[0;34m\u001b[0m\u001b[0m\n\u001b[0m\u001b[1;32m      4\u001b[0m     \u001b[0mmy_move\u001b[0m \u001b[0;34m=\u001b[0m \u001b[0mint\u001b[0m\u001b[0;34m(\u001b[0m\u001b[0mmy_move\u001b[0m\u001b[0;34m)\u001b[0m\u001b[0;34m\u001b[0m\u001b[0;34m\u001b[0m\u001b[0m\n\u001b[1;32m      5\u001b[0m     \u001b[0mempty_cell_list\u001b[0m \u001b[0;34m=\u001b[0m \u001b[0mget_empty_cells\u001b[0m\u001b[0;34m(\u001b[0m\u001b[0mboard_state\u001b[0m\u001b[0;34m)\u001b[0m\u001b[0;34m\u001b[0m\u001b[0;34m\u001b[0m\u001b[0m\n",
            "\u001b[0;32m/usr/local/lib/python3.11/dist-packages/ipykernel/kernelbase.py\u001b[0m in \u001b[0;36mraw_input\u001b[0;34m(self, prompt)\u001b[0m\n\u001b[1;32m   1175\u001b[0m                 \u001b[0;34m\"raw_input was called, but this frontend does not support input requests.\"\u001b[0m\u001b[0;34m\u001b[0m\u001b[0;34m\u001b[0m\u001b[0m\n\u001b[1;32m   1176\u001b[0m             )\n\u001b[0;32m-> 1177\u001b[0;31m         return self._input_request(\n\u001b[0m\u001b[1;32m   1178\u001b[0m             \u001b[0mstr\u001b[0m\u001b[0;34m(\u001b[0m\u001b[0mprompt\u001b[0m\u001b[0;34m)\u001b[0m\u001b[0;34m,\u001b[0m\u001b[0;34m\u001b[0m\u001b[0;34m\u001b[0m\u001b[0m\n\u001b[1;32m   1179\u001b[0m             \u001b[0mself\u001b[0m\u001b[0;34m.\u001b[0m\u001b[0m_parent_ident\u001b[0m\u001b[0;34m[\u001b[0m\u001b[0;34m\"shell\"\u001b[0m\u001b[0;34m]\u001b[0m\u001b[0;34m,\u001b[0m\u001b[0;34m\u001b[0m\u001b[0;34m\u001b[0m\u001b[0m\n",
            "\u001b[0;32m/usr/local/lib/python3.11/dist-packages/ipykernel/kernelbase.py\u001b[0m in \u001b[0;36m_input_request\u001b[0;34m(self, prompt, ident, parent, password)\u001b[0m\n\u001b[1;32m   1217\u001b[0m             \u001b[0;32mexcept\u001b[0m \u001b[0mKeyboardInterrupt\u001b[0m\u001b[0;34m:\u001b[0m\u001b[0;34m\u001b[0m\u001b[0;34m\u001b[0m\u001b[0m\n\u001b[1;32m   1218\u001b[0m                 \u001b[0;31m# re-raise KeyboardInterrupt, to truncate traceback\u001b[0m\u001b[0;34m\u001b[0m\u001b[0;34m\u001b[0m\u001b[0m\n\u001b[0;32m-> 1219\u001b[0;31m                 \u001b[0;32mraise\u001b[0m \u001b[0mKeyboardInterrupt\u001b[0m\u001b[0;34m(\u001b[0m\u001b[0;34m\"Interrupted by user\"\u001b[0m\u001b[0;34m)\u001b[0m \u001b[0;32mfrom\u001b[0m \u001b[0;32mNone\u001b[0m\u001b[0;34m\u001b[0m\u001b[0;34m\u001b[0m\u001b[0m\n\u001b[0m\u001b[1;32m   1220\u001b[0m             \u001b[0;32mexcept\u001b[0m \u001b[0mException\u001b[0m\u001b[0;34m:\u001b[0m\u001b[0;34m\u001b[0m\u001b[0;34m\u001b[0m\u001b[0m\n\u001b[1;32m   1221\u001b[0m                 \u001b[0mself\u001b[0m\u001b[0;34m.\u001b[0m\u001b[0mlog\u001b[0m\u001b[0;34m.\u001b[0m\u001b[0mwarning\u001b[0m\u001b[0;34m(\u001b[0m\u001b[0;34m\"Invalid Message:\"\u001b[0m\u001b[0;34m,\u001b[0m \u001b[0mexc_info\u001b[0m\u001b[0;34m=\u001b[0m\u001b[0;32mTrue\u001b[0m\u001b[0;34m)\u001b[0m\u001b[0;34m\u001b[0m\u001b[0;34m\u001b[0m\u001b[0m\n",
            "\u001b[0;31mKeyboardInterrupt\u001b[0m: Interrupted by user"
          ]
        }
      ]
    },
    {
      "cell_type": "code",
      "source": [
        "# Test the computer_move function\n",
        "empty_cells = get_empty_cells(board_state)\n",
        "computer_move(board_state)\n",
        "draw_board(board_state)"
      ],
      "metadata": {
        "id": "7ERGXnRW4TN_"
      },
      "execution_count": null,
      "outputs": []
    },
    {
      "cell_type": "code",
      "source": [
        "# Test case: Horizontal win for 'X'\n",
        "board_state_h_x = ['X', 'X', 'X', ' ', ' ', ' ', ' ', ' ', ' ']\n",
        "print(\"Test Case (Horizontal X Win):\", is_winning(board_state_h_x))\n",
        "\n",
        "# Test case: Vertical win for 'X'\n",
        "board_state_v_x = ['X', ' ', ' ', 'X', ' ', ' ', 'X', ' ', ' ']\n",
        "print(\"Test Case (Vertical X Win):\", is_winning(board_state_v_x))\n",
        "\n",
        "# Test case: Diagonal win for 'X' (top-left to bottom-right)\n",
        "board_state_d1_x = ['X', ' ', ' ', ' ', 'X', ' ', ' ', ' ', 'X']\n",
        "print(\"Test Case (Diagonal X Win - TL to BR):\", is_winning(board_state_d1_x))\n",
        "\n",
        "# Test case: Diagonal win for 'O' (top-right to bottom-left)\n",
        "board_state_d2_o = [' ', ' ', 'O', ' ', 'O', ' ', 'O', ' ', ' ']\n",
        "print(\"Test Case (Diagonal O Win - TR to BL):\", is_winning(board_state_d2_o))\n",
        "\n",
        "# Test case: No win, board partially filled\n",
        "board_state_no_win_partial = ['X', 'O', 'X', ' ', 'O', ' ', 'X', ' ', 'O']\n",
        "print(\"Test Case (No Win - Partial Board):\", is_winning(board_state_no_win_partial))\n",
        "\n",
        "# Test case: No win, board full (a draw)\n",
        "board_state_draw = ['X', 'O', 'X', 'O', 'X', 'X', 'O', 'X', 'O']\n",
        "print(\"Test Case (No Win - Full Board/Draw):\", is_winning(board_state_draw))\n",
        "draw_board(board_state_draw)\n",
        "\n",
        "# Test case: Empty board\n",
        "board_state_empty = [' ', ' ', ' ', ' ', ' ', ' ', ' ', ' ', ' ']\n",
        "print(\"Test Case (Empty Board):\", is_winning(board_state_empty))"
      ],
      "metadata": {
        "id": "LXHaO9ZYzN_3"
      },
      "execution_count": null,
      "outputs": []
    },
    {
      "cell_type": "markdown",
      "source": [
        "# Assignment part\n",
        "\n",
        "I go overboard and redesign entire code instead of extending old code from Teacher.\n",
        "Reason : It's getting hard to read and manage, causing me to be confused."
      ],
      "metadata": {
        "id": "KeQj7L0_jT0z"
      }
    },
    {
      "cell_type": "code",
      "source": [
        "from typing import List, Tuple, Optional\n",
        "from enum import Enum\n",
        "import time\n",
        "import random"
      ],
      "metadata": {
        "id": "OPy2fyLfSGUo"
      },
      "execution_count": 9,
      "outputs": []
    },
    {
      "cell_type": "code",
      "source": [
        "class TicTacToe_Move():\n",
        "    def __init__(self,player:str,cell_index:int):\n",
        "        self.player=player\n",
        "        self.cell_index=cell_index\n",
        "class TicTacToe_GameStatus(Enum):\n",
        "    FINISHED_DRAW = \"draw\"\n",
        "    FINISHED_WINNER_X = \"X\"\n",
        "    FINISHED_WINNER_O = \"O\"\n",
        "    ON_GOING_TURN_X = \"turn_X\"\n",
        "    ON_GOING_TURN_O = \"turn_O\"\n"
      ],
      "metadata": {
        "id": "ett65U88SH4n"
      },
      "execution_count": 10,
      "outputs": []
    },
    {
      "cell_type": "code",
      "source": [
        "class TicTacToe():\n",
        "    empty_board_list=[' ', ' ', ' ', ' ', ' ', ' ', ' ', ' ', ' ']\n",
        "    def __init__(self):\n",
        "        \"\"\"\n",
        "        X : start first, have a goal to maximize score (+1)\n",
        "        O : start 2nd, have a goal to minimize score (-1)\n",
        "        \"\"\"\n",
        "        self.board:List[str]=TicTacToe.empty_board_list.copy()\n",
        "        self.performed_moves:List[TicTacToe_Move]=[]\n",
        "\n",
        "    def copy(self) -> \"TicTacToe\":\n",
        "        new_game = TicTacToe()\n",
        "        new_game.board = self.board.copy()\n",
        "        new_game.performed_moves = self.performed_moves.copy()\n",
        "        return new_game\n",
        "\n",
        "    def get_empty_indices(self) -> List[int]:\n",
        "        return [i for i in range(0,len(self.board)) if self.board[i]==\" \"]\n",
        "\n",
        "    def get_game_status(self) -> TicTacToe_GameStatus:\n",
        "        win_pattern=[\n",
        "            #horizontal\n",
        "            (0,1,2),\n",
        "            (3,4,5),\n",
        "            (6,7,8),\n",
        "            #vertical\n",
        "            (0,3,6),\n",
        "            (1,4,7),\n",
        "            (2,5,8),\n",
        "            #diagonal\n",
        "            (0,4,8),\n",
        "            (2,4,6),\n",
        "        ]\n",
        "        #check winning status\n",
        "        for cell1,cell2,cell3 in win_pattern:\n",
        "            if self.board[cell1]==self.board[cell2]==self.board[cell3] and self.board[cell1]!=\" \":\n",
        "                if self.board[cell1]==\"X\":\n",
        "                    return TicTacToe_GameStatus.FINISHED_WINNER_X\n",
        "                elif self.board[cell1]==\"O\":\n",
        "                    return TicTacToe_GameStatus.FINISHED_WINNER_O\n",
        "        #if board have no space\n",
        "        if len(self.get_empty_indices())==0:\n",
        "            return TicTacToe_GameStatus.FINISHED_DRAW\n",
        "        else:\n",
        "            #else is about no winning yet, board have space\n",
        "            \"\"\"\n",
        "            if amount of X==amount of O -> X turn\n",
        "            if amount of X - mount of O==1 -> O turn\n",
        "            \"\"\"\n",
        "            X_amount = self.board.count(\"X\")\n",
        "            O_amount = self.board.count(\"O\")\n",
        "            if X_amount == O_amount:\n",
        "                return TicTacToe_GameStatus.ON_GOING_TURN_X\n",
        "            elif X_amount-O_amount==1:\n",
        "                return TicTacToe_GameStatus.ON_GOING_TURN_O\n",
        "            else:\n",
        "                raise Exception(\"The board is invalid\")\n",
        "\n",
        "    def get_current_player_turn(self) -> str:\n",
        "        game_status=self.get_game_status()\n",
        "        if game_status==TicTacToe_GameStatus.ON_GOING_TURN_O:\n",
        "            return \"O\"\n",
        "        if game_status==TicTacToe_GameStatus.ON_GOING_TURN_X:\n",
        "            return \"X\"\n",
        "\n",
        "    def get_all_possible_next_moves(self) -> List[TicTacToe_Move]:\n",
        "        r=[]\n",
        "        for i in range(0,len(self.board)):\n",
        "            if self.board[i]==\" \":\n",
        "                r.append(TicTacToe_Move(self.get_current_player_turn(),i))\n",
        "        return r\n",
        "\n",
        "\n",
        "    def empty_board(self):\n",
        "        self.board=TicTacToe.empty_board_list.copy()\n",
        "\n",
        "    def draw_board_print(self):\n",
        "        print(f\"{self.board[6]}|{self.board[7]}|{self.board[8]}\")\n",
        "        print('-+-+-')\n",
        "        print(f\"{self.board[3]}|{self.board[4]}|{self.board[5]}\")\n",
        "        print('-+-+-')\n",
        "        print(f\"{self.board[0]}|{self.board[1]}|{self.board[2]}\")\n",
        "\n",
        "    def try_move(self,move:TicTacToe_Move) -> \"TicTacToe\":\n",
        "        r=self.copy()\n",
        "        r.board[move.cell_index]=move.player\n",
        "        return r\n",
        "\n",
        "    def is_game_over(self):\n",
        "        game_status=self.get_game_status()\n",
        "        if game_status==TicTacToe_GameStatus.FINISHED_DRAW or game_status==TicTacToe_GameStatus.FINISHED_WINNER_O or game_status==TicTacToe_GameStatus.FINISHED_WINNER_X:\n",
        "            return True\n",
        "        else:\n",
        "            return False\n",
        "\n",
        "    def get_winner(self) -> str:\n",
        "        game_status=self.get_game_status()\n",
        "        if game_status==TicTacToe_GameStatus.FINISHED_WINNER_O:\n",
        "            return \"O\"\n",
        "        if game_status==TicTacToe_GameStatus.FINISHED_WINNER_X:\n",
        "            return \"X\"\n",
        "        return \"draw\"\n",
        "\n",
        "    def PLAYER(self):\n",
        "        return self.get_current_player_turn()\n",
        "    def ACTIONS(self):\n",
        "        return self.get_all_possible_next_moves()\n",
        "    def RESULT(self,a:TicTacToe_Move):\n",
        "        return self.try_move(self,a)\n",
        "    def TERMINAL(self):\n",
        "        return self.is_game_over()\n",
        "    def UTILITY(self):\n",
        "        if self.get_winner()==\"X\":\n",
        "            return 1\n",
        "        if self.get_winner()==\"O\":\n",
        "            return -1\n",
        "        if self.get_winner()==\"draw\":\n",
        "            return 0\n",
        "\n",
        "    #The goal is to create utility function, that be able to access by any points\n",
        "    def max_value_for_X(self) -> int:\n",
        "        if self.TERMINAL():\n",
        "            return self.UTILITY()\n",
        "\n",
        "        v = -float('inf')\n",
        "        for move in self.ACTIONS():\n",
        "            result = self.try_move(move)\n",
        "            v = max(v, result.min_value_for_O())\n",
        "        return v\n",
        "\n",
        "    def min_value_for_O(self) -> int:\n",
        "        if self.TERMINAL():\n",
        "            return self.UTILITY()\n",
        "\n",
        "        v = float('inf')\n",
        "        for move in self.ACTIONS():\n",
        "            result = self.try_move(move)\n",
        "            v = min(v, result.max_value_for_X())\n",
        "        return v\n",
        "\n",
        "\n",
        "    def get_best_next_move_for_current_player(self) -> TicTacToe_Move:\n",
        "        best_move = None\n",
        "        current_player = self.get_current_player_turn()\n",
        "\n",
        "        if current_player == \"X\":\n",
        "            #X is about maximizing\n",
        "            best_value = -float('inf')\n",
        "            for move in self.ACTIONS():\n",
        "                next_state = self.try_move(move)\n",
        "                value = next_state.min_value_for_O()\n",
        "                if value > best_value:\n",
        "                    best_value = value\n",
        "                    best_move = move\n",
        "        elif current_player == \"O\":\n",
        "            #O is about minimizing\n",
        "            best_value = float('inf')\n",
        "            for move in self.ACTIONS():\n",
        "                next_state = self.try_move(move)\n",
        "                value = next_state.max_value_for_X()\n",
        "                if value < best_value:\n",
        "                    best_value = value\n",
        "                    best_move = move\n",
        "\n",
        "        return best_move\n",
        "\n",
        "    def get_random_next_move(self) -> TicTacToe_Move:\n",
        "        empty_indices = self.get_empty_indices()\n",
        "        random_index = random.choice(empty_indices)\n",
        "        return TicTacToe_Move(self.get_current_player_turn(), random_index)\n",
        ""
      ],
      "metadata": {
        "id": "aJjiYptuSgau"
      },
      "execution_count": 11,
      "outputs": []
    },
    {
      "cell_type": "code",
      "source": [
        "human_turn = \"X\"\n",
        "computer_turn = \"O\"\n"
      ],
      "metadata": {
        "id": "hhJE_NMmSrNF"
      },
      "execution_count": 12,
      "outputs": []
    },
    {
      "cell_type": "markdown",
      "source": [
        "## Play with silly ahhhh computer"
      ],
      "metadata": {
        "id": "lh3EHpKKp6I4"
      }
    },
    {
      "cell_type": "code",
      "source": [
        "game=TicTacToe()\n",
        "while game.is_game_over()==False:\n",
        "    game.draw_board_print()\n",
        "    time.sleep(0.2)\n",
        "\n",
        "    current_turn=game.get_current_player_turn()\n",
        "    if current_turn==human_turn:\n",
        "        print(f\"Your turn ({game.get_current_player_turn()})\")\n",
        "        time.sleep(0.2)\n",
        "        cell_index=int(input(\"which cell do you want to replace in? (0-8): \"))\n",
        "        move=TicTacToe_Move(current_turn,cell_index)\n",
        "        # if move not in game.get_all_possible_next_moves()\n",
        "        game=game.try_move(move)\n",
        "    elif current_turn==computer_turn:\n",
        "        print(f\"Computer's turn ({game.get_current_player_turn()})\")\n",
        "        time.sleep(0.2)\n",
        "        move=game.get_random_next_move()\n",
        "        game=game.try_move(move)\n",
        "\n",
        "game.draw_board_print()\n",
        "\n",
        "winner=game.get_winner()\n",
        "if winner==human_turn:\n",
        "    print(f\"Human ({human_turn}) is the winner!\")\n",
        "elif winner==computer_turn:\n",
        "    print(f\"Computer ({computer_turn}) is the winner!\")\n",
        "elif winner==\"draw\":\n",
        "    print(\"It's a draw!\")"
      ],
      "metadata": {
        "colab": {
          "base_uri": "https://localhost:8080/"
        },
        "id": "Uzx_JhP4S5aF",
        "outputId": "23419985-5d4d-4e01-df55-8a3561b2f80e"
      },
      "execution_count": 15,
      "outputs": [
        {
          "output_type": "stream",
          "name": "stdout",
          "text": [
            " | | \n",
            "-+-+-\n",
            " | | \n",
            "-+-+-\n",
            " | | \n",
            "Your turn (X)\n",
            "which cell do you want to replace in? (0-8): 0\n",
            " | | \n",
            "-+-+-\n",
            " | | \n",
            "-+-+-\n",
            "X| | \n",
            "Computer's turn (O)\n",
            " | | \n",
            "-+-+-\n",
            " |O| \n",
            "-+-+-\n",
            "X| | \n",
            "Your turn (X)\n",
            "which cell do you want to replace in? (0-8): 1\n",
            " | | \n",
            "-+-+-\n",
            " |O| \n",
            "-+-+-\n",
            "X|X| \n",
            "Computer's turn (O)\n",
            "O| | \n",
            "-+-+-\n",
            " |O| \n",
            "-+-+-\n",
            "X|X| \n",
            "Your turn (X)\n",
            "which cell do you want to replace in? (0-8): 2\n",
            "O| | \n",
            "-+-+-\n",
            " |O| \n",
            "-+-+-\n",
            "X|X|X\n",
            "Human (X) is the winner!\n"
          ]
        }
      ]
    },
    {
      "cell_type": "markdown",
      "source": [
        "## Play with **lock-in** computer"
      ],
      "metadata": {
        "id": "bBpRISBbrcyh"
      }
    },
    {
      "cell_type": "code",
      "source": [
        "game=TicTacToe()\n",
        "while game.is_game_over()==False:\n",
        "    game.draw_board_print()\n",
        "    time.sleep(0.2)\n",
        "\n",
        "    current_turn=game.get_current_player_turn()\n",
        "    if current_turn==human_turn:\n",
        "        print(f\"Your turn ({game.get_current_player_turn()})\")\n",
        "        time.sleep(0.2)\n",
        "        cell_index=int(input(\"which cell do you want to replace in? (0-8): \"))\n",
        "        move=TicTacToe_Move(current_turn,cell_index)\n",
        "        # if move not in game.get_all_possible_next_moves()\n",
        "        game=game.try_move(move)\n",
        "    elif current_turn==computer_turn:\n",
        "        print(f\"Computer's turn ({game.get_current_player_turn()})\")\n",
        "        time.sleep(0.2)\n",
        "        move=game.get_best_next_move_for_current_player()\n",
        "        game=game.try_move(move)\n",
        "\n",
        "game.draw_board_print()\n",
        "\n",
        "winner=game.get_winner()\n",
        "if winner==human_turn:\n",
        "    print(f\"Human ({human_turn}) is the winner!\")\n",
        "elif winner==computer_turn:\n",
        "    print(f\"Computer ({computer_turn} is the winner!\")\n",
        "elif winner==\"draw\":\n",
        "    print(\"It's a draw!\")"
      ],
      "metadata": {
        "colab": {
          "base_uri": "https://localhost:8080/"
        },
        "id": "ycX69gG3SueV",
        "outputId": "5885d5b9-677a-47d6-9de2-2f93b0344b8b"
      },
      "execution_count": 17,
      "outputs": [
        {
          "output_type": "stream",
          "name": "stdout",
          "text": [
            " | | \n",
            "-+-+-\n",
            " | | \n",
            "-+-+-\n",
            " | | \n",
            "Your turn (X)\n",
            "which cell do you want to replace in? (0-8): 0\n",
            " | | \n",
            "-+-+-\n",
            " | | \n",
            "-+-+-\n",
            "X| | \n",
            "Computer's turn (O)\n",
            " | | \n",
            "-+-+-\n",
            " |O| \n",
            "-+-+-\n",
            "X| | \n",
            "Your turn (X)\n",
            "which cell do you want to replace in? (0-8): 1\n",
            " | | \n",
            "-+-+-\n",
            " |O| \n",
            "-+-+-\n",
            "X|X| \n",
            "Computer's turn (O)\n",
            " | | \n",
            "-+-+-\n",
            " |O| \n",
            "-+-+-\n",
            "X|X|O\n",
            "Your turn (X)\n",
            "which cell do you want to replace in? (0-8): 6\n",
            "X| | \n",
            "-+-+-\n",
            " |O| \n",
            "-+-+-\n",
            "X|X|O\n",
            "Computer's turn (O)\n",
            "X| | \n",
            "-+-+-\n",
            "O|O| \n",
            "-+-+-\n",
            "X|X|O\n",
            "Your turn (X)\n",
            "which cell do you want to replace in? (0-8): 5\n",
            "X| | \n",
            "-+-+-\n",
            "O|O|X\n",
            "-+-+-\n",
            "X|X|O\n",
            "Computer's turn (O)\n",
            "X|O| \n",
            "-+-+-\n",
            "O|O|X\n",
            "-+-+-\n",
            "X|X|O\n",
            "Your turn (X)\n",
            "which cell do you want to replace in? (0-8): 8\n",
            "X|O|X\n",
            "-+-+-\n",
            "O|O|X\n",
            "-+-+-\n",
            "X|X|O\n",
            "It's a draw!\n"
          ]
        }
      ]
    }
  ]
}